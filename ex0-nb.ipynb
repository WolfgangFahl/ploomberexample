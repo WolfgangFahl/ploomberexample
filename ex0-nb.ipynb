{
 "cells": [
  {
   "cell_type": "code",
   "execution_count": 1,
   "id": "80b2a1b7",
   "metadata": {
    "execution": {
     "iopub.execute_input": "2022-03-17T17:06:05.842412Z",
     "iopub.status.busy": "2022-03-17T17:06:05.841685Z",
     "iopub.status.idle": "2022-03-17T17:06:05.844343Z",
     "shell.execute_reply": "2022-03-17T17:06:05.844694Z"
    },
    "papermill": {
     "duration": 0.011903,
     "end_time": "2022-03-17T17:06:05.844942",
     "exception": false,
     "start_time": "2022-03-17T17:06:05.833039",
     "status": "completed"
    },
    "tags": [
     "parameters"
    ]
   },
   "outputs": [],
   "source": [
    "# declare a list tasks whose products you want to use as inputs\n",
    "upstream = None\n"
   ]
  },
  {
   "cell_type": "code",
   "execution_count": 2,
   "id": "9e17ca3c",
   "metadata": {
    "execution": {
     "iopub.execute_input": "2022-03-17T17:06:05.853325Z",
     "iopub.status.busy": "2022-03-17T17:06:05.852566Z",
     "iopub.status.idle": "2022-03-17T17:06:05.854518Z",
     "shell.execute_reply": "2022-03-17T17:06:05.855108Z"
    },
    "papermill": {
     "duration": 0.007325,
     "end_time": "2022-03-17T17:06:05.855297",
     "exception": false,
     "start_time": "2022-03-17T17:06:05.847972",
     "status": "completed"
    },
    "tags": [
     "injected-parameters"
    ]
   },
   "outputs": [],
   "source": [
    "# Parameters\n",
    "product = {\"nb\": \"/Users/wf/source/jupyter/ploomberexample/ex0-nb.ipynb\"}\n"
   ]
  },
  {
   "cell_type": "code",
   "execution_count": 1,
   "id": "51efcc99-5069-4ffc-ac17-b24ffde1bdd0",
   "metadata": {
    "papermill": {
     "duration": 0.015079,
     "end_time": "2022-03-17T17:06:05.872413",
     "exception": false,
     "start_time": "2022-03-17T17:06:05.857334",
     "status": "completed"
    },
    "tags": [
     "hide-input"
    ]
   },
   "outputs": [
    {
     "data": {
      "text/html": [
       "<table style=\"width:100%; float:center; background-color:#FFFFFF\" align=\"left\">\n",
       "   <tr>\n",
       "     <td style=\"text-align:left; background-color:#FFFFFF\"></td>\n",
       "     <td style=\"text-align:right; background-color:#FFFFFF\">\n",
       "       <div>\n",
       "         <img src=\"https://wiki.bitplan.com/images/wiki/1/1e/IssueIcon.png\" width=\"64\"/>\n",
       "       </div>\n",
       "     </td>\n",
       "   </tr>\n",
       " </table>\n",
       "\n",
       " <div class=\"pull-left\">\n",
       "This is an example Event\n",
       " </div>\n",
       "\n",
       " <div class=\"pull-right\">\n",
       "     <h4> 2022-07-12 </h4>\n",
       " </div>\n",
       " <center>\n",
       "     <h1> Let's try ploomber!</h1>\n",
       " </center>\n"
      ],
      "text/plain": [
       "<IPython.core.display.HTML object>"
      ]
     },
     "execution_count": 1,
     "metadata": {},
     "output_type": "execute_result"
    }
   ],
   "source": [
    "from IPython.display import HTML\n",
    "HTML(filename='header.html')"
   ]
  },
  {
   "cell_type": "code",
   "execution_count": null,
   "id": "c1057da7-6977-45c9-9302-eb83c38797a9",
   "metadata": {},
   "outputs": [],
   "source": []
  }
 ],
 "metadata": {
  "jupytext": {
   "cell_metadata_filter": "tags,-all",
   "main_language": "python",
   "notebook_metadata_filter": "-all",
   "text_representation": {
    "extension": ".py",
    "format_name": "light"
   }
  },
  "kernelspec": {
   "display_name": "Python 3 (ipykernel)",
   "language": "python",
   "name": "python3"
  },
  "language_info": {
   "codemirror_mode": {
    "name": "ipython",
    "version": 3
   },
   "file_extension": ".py",
   "mimetype": "text/x-python",
   "name": "python",
   "nbconvert_exporter": "python",
   "pygments_lexer": "ipython3",
   "version": "3.9.10"
  },
  "papermill": {
   "duration": 1.185588,
   "end_time": "2022-03-17T17:06:05.985639",
   "exception": null,
   "input_path": "/var/folders/vm/pv2pd8ss52bfphptxphhwkj80000gn/T/tmplh6nu29h.ipynb",
   "output_path": "/Users/wf/source/jupyter/ploomberexample/ex0-nb.ipynb",
   "parameters": {
    "product": {
     "nb": "/Users/wf/source/jupyter/ploomberexample/ex0-nb.ipynb"
    }
   },
   "start_time": "2022-03-17T17:06:04.800051"
  }
 },
 "nbformat": 4,
 "nbformat_minor": 5
}
